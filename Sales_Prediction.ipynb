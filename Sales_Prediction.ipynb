{
  "nbformat": 4,
  "nbformat_minor": 0,
  "metadata": {
    "colab": {
      "name": "Sales_Prediction.ipynb",
      "provenance": [],
      "collapsed_sections": [],
      "authorship_tag": "ABX9TyOQJ5lOfzCFAK7X3vqt8Ybt",
      "include_colab_link": true
    },
    "kernelspec": {
      "name": "python3",
      "display_name": "Python 3"
    },
    "language_info": {
      "name": "python"
    }
  },
  "cells": [
    {
      "cell_type": "markdown",
      "metadata": {
        "id": "view-in-github",
        "colab_type": "text"
      },
      "source": [
        "<a href=\"https://colab.research.google.com/github/yash206/Data-Science-Projects/blob/main/Sales_Prediction.ipynb\" target=\"_parent\"><img src=\"https://colab.research.google.com/assets/colab-badge.svg\" alt=\"Open In Colab\"/></a>"
      ]
    },
    {
      "cell_type": "code",
      "execution_count": null,
      "metadata": {
        "id": "bIVgnQ0Yu4Pg"
      },
      "outputs": [],
      "source": [
        "import pandas as pd\n",
        "import numpy as np"
      ]
    },
    {
      "cell_type": "code",
      "source": [
        "from google.colab import files"
      ],
      "metadata": {
        "id": "C6y5GmEO2Wal"
      },
      "execution_count": null,
      "outputs": []
    },
    {
      "cell_type": "code",
      "source": [
        "dataset = pd.read_csv('Book6.csv')\n",
        "print(dataset)"
      ],
      "metadata": {
        "id": "L-HQT7312XLD",
        "colab": {
          "base_uri": "https://localhost:8080/"
        },
        "outputId": "788c66fa-d372-46a4-b362-2b4699365b8d"
      },
      "execution_count": null,
      "outputs": [
        {
          "output_type": "stream",
          "name": "stdout",
          "text": [
            "     Age  Salary  Status\n",
            "0     17   69000       0\n",
            "1     47   55000       0\n",
            "2     18   33000       0\n",
            "3     35   97000       1\n",
            "4     49   30000       1\n",
            "..   ...     ...     ...\n",
            "195   46   26000       1\n",
            "196   46  103000       0\n",
            "197   16   62000       0\n",
            "198   36   97000       1\n",
            "199   20   45000       0\n",
            "\n",
            "[200 rows x 3 columns]\n"
          ]
        }
      ]
    },
    {
      "cell_type": "code",
      "source": [
        "print(dataset.shape)\n",
        "print(dataset.head(5))  #we can use tail instead of head to print from back"
      ],
      "metadata": {
        "id": "ioLg4O9D2XPT",
        "colab": {
          "base_uri": "https://localhost:8080/"
        },
        "outputId": "07e9cffd-b51f-4354-90ce-63e084299005"
      },
      "execution_count": null,
      "outputs": [
        {
          "output_type": "stream",
          "name": "stdout",
          "text": [
            "(200, 3)\n",
            "   Age  Salary  Status\n",
            "0   17   69000       0\n",
            "1   47   55000       0\n",
            "2   18   33000       0\n",
            "3   35   97000       1\n",
            "4   49   30000       1\n"
          ]
        }
      ]
    },
    {
      "cell_type": "code",
      "source": [
        "X = dataset.iloc[:, :-1].values\n",
        "X"
      ],
      "metadata": {
        "id": "TgjoHe3H2XR8",
        "colab": {
          "base_uri": "https://localhost:8080/"
        },
        "outputId": "85d28332-d7ce-49a2-b946-dd6740049fc0"
      },
      "execution_count": null,
      "outputs": [
        {
          "output_type": "execute_result",
          "data": {
            "text/plain": [
              "array([[    17,  69000],\n",
              "       [    47,  55000],\n",
              "       [    18,  33000],\n",
              "       [    35,  97000],\n",
              "       [    49,  30000],\n",
              "       [    27, 105000],\n",
              "       [    39, 114000],\n",
              "       [    23,  21000],\n",
              "       [    39, 102000],\n",
              "       [    35, 107000],\n",
              "       [    28, 107000],\n",
              "       [    50,  90000],\n",
              "       [    43,  56000],\n",
              "       [    21, 110000],\n",
              "       [    33,  20000],\n",
              "       [    20, 105000],\n",
              "       [    27,  50000],\n",
              "       [    35,  39000],\n",
              "       [    47, 110000],\n",
              "       [    29,  32000],\n",
              "       [    48,  52000],\n",
              "       [    23,  63000],\n",
              "       [    26,  51000],\n",
              "       [    23,  35000],\n",
              "       [    15,  55000],\n",
              "       [    49,  43000],\n",
              "       [    35,  79000],\n",
              "       [    28,  35000],\n",
              "       [    25,  76000],\n",
              "       [    31, 125000],\n",
              "       [    35,  98000],\n",
              "       [    30,  53000],\n",
              "       [    27,  71000],\n",
              "       [    24,  91000],\n",
              "       [    37, 119000],\n",
              "       [    42,  82000],\n",
              "       [    39,  71000],\n",
              "       [    31,  84000],\n",
              "       [    29,  30000],\n",
              "       [    45,  75000],\n",
              "       [    39, 118000],\n",
              "       [    23,  61000],\n",
              "       [    34,  49000],\n",
              "       [    16,  71000],\n",
              "       [    39,  92000],\n",
              "       [    24,  74000],\n",
              "       [    22,  42000],\n",
              "       [    45, 115000],\n",
              "       [    49,  54000],\n",
              "       [    25,  98000],\n",
              "       [    15,  75000],\n",
              "       [    25,  19000],\n",
              "       [    24,  22000],\n",
              "       [    23,  55000],\n",
              "       [    46, 117000],\n",
              "       [    33,  61000],\n",
              "       [    49, 108000],\n",
              "       [    34,  80000],\n",
              "       [    47, 102000],\n",
              "       [    30, 106000],\n",
              "       [    17,  90000],\n",
              "       [    33, 107000],\n",
              "       [    26,  90000],\n",
              "       [    26,  58000],\n",
              "       [    49, 124000],\n",
              "       [    39,  55000],\n",
              "       [    15,  42000],\n",
              "       [    37,  34000],\n",
              "       [    30,  54000],\n",
              "       [    20,  79000],\n",
              "       [    19,  61000],\n",
              "       [    40,  34000],\n",
              "       [    49, 120000],\n",
              "       [    37,  63000],\n",
              "       [    43,  88000],\n",
              "       [    34,  79000],\n",
              "       [    39,  68000],\n",
              "       [    31,  61000],\n",
              "       [    21, 116000],\n",
              "       [    16, 111000],\n",
              "       [    44,  58000],\n",
              "       [    40,  30000],\n",
              "       [    20, 100000],\n",
              "       [    27, 108000],\n",
              "       [    39,  79000],\n",
              "       [    43, 103000],\n",
              "       [    18,  74000],\n",
              "       [    22, 122000],\n",
              "       [    22,  37000],\n",
              "       [    26,  53000],\n",
              "       [    43,  64000],\n",
              "       [    25, 107000],\n",
              "       [    23,  57000],\n",
              "       [    49, 124000],\n",
              "       [    44,  76000],\n",
              "       [    36,  68000],\n",
              "       [    48,  19000],\n",
              "       [    34,  96000],\n",
              "       [    24,  95000],\n",
              "       [    21, 112000],\n",
              "       [    32,  58000],\n",
              "       [    35,  28000],\n",
              "       [    21,  45000],\n",
              "       [    17,  29000],\n",
              "       [    22, 111000],\n",
              "       [    27, 109000],\n",
              "       [    35,  50000],\n",
              "       [    47,  21000],\n",
              "       [    23,  68000],\n",
              "       [    15,  30000],\n",
              "       [    17,  46000],\n",
              "       [    17,  26000],\n",
              "       [    20,  71000],\n",
              "       [    39,  84000],\n",
              "       [    21,  98000],\n",
              "       [    39,  18000],\n",
              "       [    39, 112000],\n",
              "       [    31,  40000],\n",
              "       [    32,  77000],\n",
              "       [    36,  87000],\n",
              "       [    44,  38000],\n",
              "       [    49, 110000],\n",
              "       [    31,  41000],\n",
              "       [    48,  71000],\n",
              "       [    38,  65000],\n",
              "       [    47, 118000],\n",
              "       [    38, 117000],\n",
              "       [    44,  27000],\n",
              "       [    40,  75000],\n",
              "       [    25,  98000],\n",
              "       [    43,  96000],\n",
              "       [    19,  41000],\n",
              "       [    28,  68000],\n",
              "       [    25,  23000],\n",
              "       [    42,  61000],\n",
              "       [    17, 104000],\n",
              "       [    34,  33000],\n",
              "       [    28,  20000],\n",
              "       [    35,  99000],\n",
              "       [    16,  42000],\n",
              "       [    37,  57000],\n",
              "       [    34,  56000],\n",
              "       [    34,  95000],\n",
              "       [    49,  71000],\n",
              "       [    29, 124000],\n",
              "       [    32, 116000],\n",
              "       [    18,  18000],\n",
              "       [    41,  70000],\n",
              "       [    47,  62000],\n",
              "       [    36,  74000],\n",
              "       [    24, 106000],\n",
              "       [    24,  25000],\n",
              "       [    22,  27000],\n",
              "       [    30,  24000],\n",
              "       [    30,  87000],\n",
              "       [    32,  16000],\n",
              "       [    17, 108000],\n",
              "       [    46,  17000],\n",
              "       [    17, 117000],\n",
              "       [    29, 104000],\n",
              "       [    47,  32000],\n",
              "       [    33,  84000],\n",
              "       [    30,  33000],\n",
              "       [    17,  49000],\n",
              "       [    21, 105000],\n",
              "       [    48,  90000],\n",
              "       [    21,  27000],\n",
              "       [    36,  99000],\n",
              "       [    43,  42000],\n",
              "       [    24, 112000],\n",
              "       [    46,  79000],\n",
              "       [    31, 107000],\n",
              "       [    34,  31000],\n",
              "       [    47,  19000],\n",
              "       [    38,  17000],\n",
              "       [    32,  48000],\n",
              "       [    22,  33000],\n",
              "       [    26, 101000],\n",
              "       [    29,  64000],\n",
              "       [    33,  48000],\n",
              "       [    27, 103000],\n",
              "       [    18,  62000],\n",
              "       [    23,  30000],\n",
              "       [    17,  62000],\n",
              "       [    19,  85000],\n",
              "       [    17,  19000],\n",
              "       [    31,  91000],\n",
              "       [    15,  17000],\n",
              "       [    47, 105000],\n",
              "       [    45,  70000],\n",
              "       [    25,  92000],\n",
              "       [    49,  65000],\n",
              "       [    27,  63000],\n",
              "       [    48,  20000],\n",
              "       [    37,  64000],\n",
              "       [    46,  26000],\n",
              "       [    46, 103000],\n",
              "       [    16,  62000],\n",
              "       [    36,  97000],\n",
              "       [    20,  45000]])"
            ]
          },
          "metadata": {},
          "execution_count": 7
        }
      ]
    },
    {
      "cell_type": "code",
      "source": [
        "Y = dataset.iloc[:, -1].values\n",
        "Y"
      ],
      "metadata": {
        "id": "NaSgaihY2XUW",
        "colab": {
          "base_uri": "https://localhost:8080/"
        },
        "outputId": "0805fa21-dfe9-41e6-bc6a-7a2b55ba14b4"
      },
      "execution_count": null,
      "outputs": [
        {
          "output_type": "execute_result",
          "data": {
            "text/plain": [
              "array([0, 0, 0, 1, 1, 1, 0, 0, 1, 0, 1, 1, 0, 0, 0, 1, 0, 0, 1, 0, 1, 0,\n",
              "       1, 1, 0, 0, 0, 0, 1, 1, 1, 0, 1, 1, 0, 0, 0, 0, 1, 0, 1, 0, 0, 1,\n",
              "       0, 0, 0, 1, 1, 0, 1, 0, 0, 1, 0, 1, 0, 0, 0, 1, 1, 1, 0, 0, 0, 0,\n",
              "       0, 1, 1, 1, 0, 0, 0, 1, 0, 1, 1, 0, 1, 0, 0, 0, 1, 0, 0, 0, 1, 0,\n",
              "       0, 0, 0, 1, 1, 0, 1, 0, 0, 1, 0, 1, 0, 1, 1, 1, 0, 1, 0, 1, 1, 0,\n",
              "       0, 0, 1, 1, 1, 0, 0, 0, 1, 0, 0, 1, 0, 0, 0, 0, 0, 1, 0, 1, 1, 1,\n",
              "       0, 1, 0, 0, 0, 1, 1, 0, 0, 1, 0, 0, 1, 1, 0, 1, 0, 0, 0, 1, 0, 1,\n",
              "       1, 0, 0, 1, 0, 0, 0, 1, 0, 0, 1, 0, 0, 1, 0, 1, 1, 1, 0, 1, 0, 1,\n",
              "       0, 0, 0, 0, 0, 1, 1, 0, 1, 1, 1, 1, 1, 0, 0, 0, 1, 0, 1, 1, 0, 0,\n",
              "       1, 0])"
            ]
          },
          "metadata": {},
          "execution_count": 8
        }
      ]
    },
    {
      "cell_type": "code",
      "source": [
        "from sklearn.model_selection import train_test_split\n",
        "X_train, X_test, Y_train, Y_test =  train_test_split(X,Y,test_size=0.2,random_state = 0)"
      ],
      "metadata": {
        "id": "0GRmg4ev2XW9"
      },
      "execution_count": null,
      "outputs": []
    },
    {
      "cell_type": "code",
      "source": [
        "from sklearn.preprocessing import StandardScaler\n",
        "sc = StandardScaler()\n",
        "X_train = sc.fit_transform(X_train)\n",
        "X_test = sc.fit_transform(X_test)"
      ],
      "metadata": {
        "id": "KnK_Iwbl5ILo"
      },
      "execution_count": null,
      "outputs": []
    },
    {
      "cell_type": "code",
      "source": [
        "from sklearn.linear_model import LogisticRegression\n",
        "model = LogisticRegression(random_state=0)\n",
        "model.fit(X_train,Y_train)"
      ],
      "metadata": {
        "id": "tAQDFgvO6T8u",
        "colab": {
          "base_uri": "https://localhost:8080/"
        },
        "outputId": "97e3c724-8130-429d-daf5-17411678e139"
      },
      "execution_count": null,
      "outputs": [
        {
          "output_type": "execute_result",
          "data": {
            "text/plain": [
              "LogisticRegression(random_state=0)"
            ]
          },
          "metadata": {},
          "execution_count": 11
        }
      ]
    },
    {
      "cell_type": "code",
      "source": [
        "age = int(input(\"Enter New Customer's Age: \"))\n",
        "sal = int(input(\"Enter New Customer's Salary: \"))\n",
        "newCust = [[age,sal]]\n",
        "result = model.predict(sc.transform(newCust))\n",
        "print(result)\n",
        "if result==1:\n",
        "  print(\"Customer will Buy\")\n",
        "else:\n",
        "  print(\"Customer won't Buy\")"
      ],
      "metadata": {
        "id": "GoQQ1qWU6T_L",
        "colab": {
          "base_uri": "https://localhost:8080/"
        },
        "outputId": "3361902b-ec27-433a-ad62-e057657f0528"
      },
      "execution_count": null,
      "outputs": [
        {
          "output_type": "stream",
          "name": "stdout",
          "text": [
            "Enter New Customer's Age: 35\n",
            "Enter New Customer's Salary: 15000\n",
            "[0]\n",
            "Customer won't Buy\n"
          ]
        }
      ]
    },
    {
      "cell_type": "code",
      "source": [
        "Y_pred = model.predict(X_test)\n",
        "print(np.concatenate((Y_pred.reshape(len(Y_pred),1),Y_test.reshape(len(Y_test),1)),1))"
      ],
      "metadata": {
        "id": "4lr3Gz2N5IOC",
        "colab": {
          "base_uri": "https://localhost:8080/"
        },
        "outputId": "62288c14-28ef-4140-ea6b-9114aaadecea"
      },
      "execution_count": null,
      "outputs": [
        {
          "output_type": "stream",
          "name": "stdout",
          "text": [
            "[[0 1]\n",
            " [0 1]\n",
            " [0 1]\n",
            " [1 0]\n",
            " [1 0]\n",
            " [0 1]\n",
            " [1 1]\n",
            " [0 0]\n",
            " [0 0]\n",
            " [0 0]\n",
            " [0 1]\n",
            " [0 0]\n",
            " [1 0]\n",
            " [0 1]\n",
            " [0 0]\n",
            " [0 0]\n",
            " [1 1]\n",
            " [0 1]\n",
            " [0 0]\n",
            " [0 0]\n",
            " [0 0]\n",
            " [1 1]\n",
            " [0 0]\n",
            " [1 0]\n",
            " [1 1]\n",
            " [0 0]\n",
            " [0 0]\n",
            " [0 1]\n",
            " [0 0]\n",
            " [0 0]\n",
            " [0 0]\n",
            " [0 1]\n",
            " [1 0]\n",
            " [0 0]\n",
            " [0 1]\n",
            " [0 0]\n",
            " [1 1]\n",
            " [0 1]\n",
            " [1 0]\n",
            " [0 0]]\n"
          ]
        }
      ]
    },
    {
      "cell_type": "code",
      "source": [
        "from sklearn.metrics import confusion_matrix\n",
        "cm = confusion_matrix(Y_test,Y_pred)\n",
        "\n",
        "print(\"Confusion Matrix: \")\n",
        "print(cm)"
      ],
      "metadata": {
        "id": "ppGxnAos5IQj",
        "colab": {
          "base_uri": "https://localhost:8080/"
        },
        "outputId": "5f8447fd-d9db-463d-c348-c70b148b82c8"
      },
      "execution_count": null,
      "outputs": [
        {
          "output_type": "stream",
          "name": "stdout",
          "text": [
            "Confusion Matrix: \n",
            "[[18  6]\n",
            " [11  5]]\n"
          ]
        }
      ]
    },
    {
      "cell_type": "markdown",
      "source": [
        "Accuracy"
      ],
      "metadata": {
        "id": "lN6JhXOPKjNh"
      }
    },
    {
      "cell_type": "code",
      "source": [
        "from sklearn.metrics import accuracy_score\n",
        "print(\"Accuracy of the Model : {0}%\".format(accuracy_score(Y_test,Y_pred)*100))"
      ],
      "metadata": {
        "colab": {
          "base_uri": "https://localhost:8080/"
        },
        "id": "JVFJGSL1KijZ",
        "outputId": "79f5174f-cb3e-4140-9556-6ef9852a6bdd"
      },
      "execution_count": null,
      "outputs": [
        {
          "output_type": "stream",
          "name": "stdout",
          "text": [
            "Accuracy of the Model : 57.49999999999999%\n"
          ]
        }
      ]
    }
  ]
}